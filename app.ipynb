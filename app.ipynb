{
 "cells": [
  {
   "cell_type": "code",
   "execution_count": 2,
   "id": "a25a1506",
   "metadata": {},
   "outputs": [],
   "source": [
    "from flask import Flask, request, render_template"
   ]
  },
  {
   "cell_type": "code",
   "execution_count": 9,
   "id": "6e7ffec6",
   "metadata": {},
   "outputs": [
    {
     "name": "stdout",
     "output_type": "stream",
     "text": [
      " * Serving Flask app '__main__'\n",
      " * Debug mode: off\n"
     ]
    },
    {
     "name": "stderr",
     "output_type": "stream",
     "text": [
      "WARNING: This is a development server. Do not use it in a production deployment. Use a production WSGI server instead.\n",
      " * Running on http://127.0.0.1:5000\n",
      "Press CTRL+C to quit\n",
      "127.0.0.1 - - [15/Mar/2024 19:05:02] \"GET / HTTP/1.1\" 200 -\n",
      "127.0.0.1 - - [15/Mar/2024 19:05:04] \"POST /main HTTP/1.1\" 200 -\n",
      "127.0.0.1 - - [15/Mar/2024 19:05:08] \"POST /main HTTP/1.1\" 200 -\n"
     ]
    }
   ],
   "source": [
    "app = Flask(__name__)\n",
    "\n",
    "\n",
    "@app.route(\"/\", methods = [\"GET\", \"POST\"])\n",
    "def index():\n",
    "    return render_template(\"index.html\")\n",
    "\n",
    "\n",
    "@app.route(\"/main\", methods = [\"GET\", \"POST\"])\n",
    "def main():\n",
    "    name = request.form.get(\"name\")\n",
    "    return render_template(\"main.html\", name = name)\n",
    "\n",
    "\n",
    "@app.route(\"/ethical_test\", methods = [\"GET\", \"POST\"])\n",
    "def ethical_test():\n",
    "    return render_template(\"ethical_test.html\")\n",
    "\n",
    "\n",
    "@app.route(\"/answer\", methods = [\"GET\", \"POST\"])\n",
    "def answer():\n",
    "    ans = request.form['options']\n",
    "\n",
    "    if ans == 'true':\n",
    "        return render_template(\"wrong.html\")\n",
    "    else:\n",
    "        return render_template(\"correct.html\")\n",
    "\n",
    "    \n",
    "@app.route(\"/end\", methods = [\"GET\", \"POST\"])\n",
    "def end():\n",
    "    return render_template(\"end.html\")\n",
    "\n",
    "\n",
    "if __name__ == \"__main__\":\n",
    "    app.run()"
   ]
  },
  {
   "cell_type": "code",
   "execution_count": null,
   "id": "3a041492",
   "metadata": {},
   "outputs": [],
   "source": []
  }
 ],
 "metadata": {
  "kernelspec": {
   "display_name": "Python 3 (ipykernel)",
   "language": "python",
   "name": "python3"
  },
  "language_info": {
   "codemirror_mode": {
    "name": "ipython",
    "version": 3
   },
   "file_extension": ".py",
   "mimetype": "text/x-python",
   "name": "python",
   "nbconvert_exporter": "python",
   "pygments_lexer": "ipython3",
   "version": "3.11.5"
  }
 },
 "nbformat": 4,
 "nbformat_minor": 5
}
