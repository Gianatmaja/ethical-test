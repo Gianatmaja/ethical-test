{
 "cells": [
  {
   "cell_type": "code",
   "execution_count": 3,
   "id": "ae86e461",
   "metadata": {},
   "outputs": [],
   "source": [
    "import sqlite3"
   ]
  },
  {
   "cell_type": "code",
   "execution_count": 4,
   "id": "66c7bf85",
   "metadata": {},
   "outputs": [],
   "source": [
    "import datetime"
   ]
  },
  {
   "cell_type": "code",
   "execution_count": 25,
   "id": "d838cbf1",
   "metadata": {},
   "outputs": [],
   "source": [
    "conn = sqlite3.connect(\"log.db\")"
   ]
  },
  {
   "cell_type": "code",
   "execution_count": 6,
   "id": "6ea1c5a4",
   "metadata": {},
   "outputs": [
    {
     "data": {
      "text/plain": [
       "<sqlite3.Cursor at 0x1100165c0>"
      ]
     },
     "execution_count": 6,
     "metadata": {},
     "output_type": "execute_result"
    }
   ],
   "source": [
    "conn.execute(\"create table employee (name text, timestamp timestamp)\")"
   ]
  },
  {
   "cell_type": "code",
   "execution_count": 29,
   "id": "656c3ef3",
   "metadata": {},
   "outputs": [],
   "source": [
    "conn.close()"
   ]
  },
  {
   "cell_type": "code",
   "execution_count": 33,
   "id": "3be23b62",
   "metadata": {},
   "outputs": [],
   "source": [
    "conn = sqlite3.connect(\"log.db\")\n",
    "c = conn.execute(\"select * from employee\")"
   ]
  },
  {
   "cell_type": "code",
   "execution_count": 34,
   "id": "cddc4462",
   "metadata": {},
   "outputs": [
    {
     "data": {
      "text/plain": [
       "(('name', None, None, None, None, None, None),\n",
       " ('timestamp', None, None, None, None, None, None))"
      ]
     },
     "execution_count": 34,
     "metadata": {},
     "output_type": "execute_result"
    }
   ],
   "source": [
    "c.description"
   ]
  },
  {
   "cell_type": "code",
   "execution_count": 35,
   "id": "70a0e853",
   "metadata": {},
   "outputs": [],
   "source": [
    "c.close()"
   ]
  },
  {
   "cell_type": "code",
   "execution_count": 31,
   "id": "e0bc0398",
   "metadata": {},
   "outputs": [],
   "source": [
    "name = 'aa'\n",
    "timestamp = datetime.datetime.now()\n",
    "\n",
    "conn = sqlite3.connect(\"log.db\")\n",
    "c = conn.cursor()\n",
    "c.execute(\"insert into employee (name,timestamp) values (?,?)\",(name,timestamp))\n",
    "conn.commit()"
   ]
  },
  {
   "cell_type": "code",
   "execution_count": 32,
   "id": "ac10cbb3",
   "metadata": {},
   "outputs": [],
   "source": [
    "c.close()\n",
    "conn.close()"
   ]
  },
  {
   "cell_type": "code",
   "execution_count": 38,
   "id": "d0592bcc",
   "metadata": {},
   "outputs": [
    {
     "name": "stdout",
     "output_type": "stream",
     "text": [
      "('aa', '2024-03-15 20:09:04.124345')\n",
      "('Gian Atmaja', '2024-03-15 20:15:15.530540')\n"
     ]
    }
   ],
   "source": [
    "conn = sqlite3.connect(\"log.db\")\n",
    "c = conn.execute(\"select * from employee\")\n",
    "\n",
    "row=\"\"\n",
    "for row in c:\n",
    "    print(row)"
   ]
  },
  {
   "cell_type": "code",
   "execution_count": 37,
   "id": "86090843",
   "metadata": {},
   "outputs": [],
   "source": [
    "c.close()\n",
    "conn.close()"
   ]
  },
  {
   "cell_type": "code",
   "execution_count": null,
   "id": "15189543",
   "metadata": {},
   "outputs": [],
   "source": []
  }
 ],
 "metadata": {
  "kernelspec": {
   "display_name": "Python 3 (ipykernel)",
   "language": "python",
   "name": "python3"
  },
  "language_info": {
   "codemirror_mode": {
    "name": "ipython",
    "version": 3
   },
   "file_extension": ".py",
   "mimetype": "text/x-python",
   "name": "python",
   "nbconvert_exporter": "python",
   "pygments_lexer": "ipython3",
   "version": "3.11.5"
  }
 },
 "nbformat": 4,
 "nbformat_minor": 5
}
